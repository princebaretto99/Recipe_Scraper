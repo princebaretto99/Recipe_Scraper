{
 "cells": [
  {
   "cell_type": "code",
   "execution_count": 1,
   "metadata": {},
   "outputs": [],
   "source": [
    "import pandas as pd\n",
    "import numpy as np"
   ]
  },
  {
   "cell_type": "code",
   "execution_count": 3,
   "metadata": {},
   "outputs": [
    {
     "data": {
      "text/html": [
       "<div>\n",
       "<style scoped>\n",
       "    .dataframe tbody tr th:only-of-type {\n",
       "        vertical-align: middle;\n",
       "    }\n",
       "\n",
       "    .dataframe tbody tr th {\n",
       "        vertical-align: top;\n",
       "    }\n",
       "\n",
       "    .dataframe thead th {\n",
       "        text-align: right;\n",
       "    }\n",
       "</style>\n",
       "<table border=\"1\" class=\"dataframe\">\n",
       "  <thead>\n",
       "    <tr style=\"text-align: right;\">\n",
       "      <th></th>\n",
       "      <th>Unnamed: 0</th>\n",
       "      <th>title</th>\n",
       "      <th>ingredients</th>\n",
       "      <th>instructions</th>\n",
       "      <th>picture_link</th>\n",
       "      <th>nutrition_text</th>\n",
       "    </tr>\n",
       "  </thead>\n",
       "  <tbody>\n",
       "    <tr>\n",
       "      <th>0</th>\n",
       "      <td>0</td>\n",
       "      <td>Simple Roasted Butternut Squash</td>\n",
       "      <td>['1  butternut squash - peeled, seeded, and cu...</td>\n",
       "      <td>['Preheat oven to 400 degrees F (200 degrees C...</td>\n",
       "      <td>https://imagesvc.meredithcorp.io/v3/mm/image?u...</td>\n",
       "      <td>177 calories; protein 2.6g; carbohydrates 30.3...</td>\n",
       "    </tr>\n",
       "    <tr>\n",
       "      <th>1</th>\n",
       "      <td>1</td>\n",
       "      <td>Simple Crustless Spinach and Mushroom Quiche</td>\n",
       "      <td>['2 tablespoons butter', '2 cups sliced mushro...</td>\n",
       "      <td>['Preheat oven to 350 degrees F (175 degrees C...</td>\n",
       "      <td>https://imagesvc.meredithcorp.io/v3/mm/image?u...</td>\n",
       "      <td>412 calories; protein 20.8g; carbohydrates 10....</td>\n",
       "    </tr>\n",
       "  </tbody>\n",
       "</table>\n",
       "</div>"
      ],
      "text/plain": [
       "   Unnamed: 0                                         title  \\\n",
       "0           0               Simple Roasted Butternut Squash   \n",
       "1           1  Simple Crustless Spinach and Mushroom Quiche   \n",
       "\n",
       "                                         ingredients  \\\n",
       "0  ['1  butternut squash - peeled, seeded, and cu...   \n",
       "1  ['2 tablespoons butter', '2 cups sliced mushro...   \n",
       "\n",
       "                                        instructions  \\\n",
       "0  ['Preheat oven to 400 degrees F (200 degrees C...   \n",
       "1  ['Preheat oven to 350 degrees F (175 degrees C...   \n",
       "\n",
       "                                        picture_link  \\\n",
       "0  https://imagesvc.meredithcorp.io/v3/mm/image?u...   \n",
       "1  https://imagesvc.meredithcorp.io/v3/mm/image?u...   \n",
       "\n",
       "                                      nutrition_text  \n",
       "0  177 calories; protein 2.6g; carbohydrates 30.3...  \n",
       "1  412 calories; protein 20.8g; carbohydrates 10....  "
      ]
     },
     "execution_count": 3,
     "metadata": {},
     "output_type": "execute_result"
    }
   ],
   "source": [
    "data_1 = pd.read_csv(\"Datasets/dataset_all_recipes_first.csv\")\n",
    "data_1.head(2)"
   ]
  },
  {
   "cell_type": "code",
   "execution_count": 4,
   "metadata": {},
   "outputs": [
    {
     "data": {
      "text/html": [
       "<div>\n",
       "<style scoped>\n",
       "    .dataframe tbody tr th:only-of-type {\n",
       "        vertical-align: middle;\n",
       "    }\n",
       "\n",
       "    .dataframe tbody tr th {\n",
       "        vertical-align: top;\n",
       "    }\n",
       "\n",
       "    .dataframe thead th {\n",
       "        text-align: right;\n",
       "    }\n",
       "</style>\n",
       "<table border=\"1\" class=\"dataframe\">\n",
       "  <thead>\n",
       "    <tr style=\"text-align: right;\">\n",
       "      <th></th>\n",
       "      <th>Unnamed: 0</th>\n",
       "      <th>title</th>\n",
       "      <th>ingredients</th>\n",
       "      <th>instructions</th>\n",
       "      <th>picture_link</th>\n",
       "      <th>nutrition_text</th>\n",
       "    </tr>\n",
       "  </thead>\n",
       "  <tbody>\n",
       "    <tr>\n",
       "      <th>0</th>\n",
       "      <td>0</td>\n",
       "      <td>Basic Cream Cheese Frosting</td>\n",
       "      <td>['½ cup butter, softened', '8 ounces cream che...</td>\n",
       "      <td>['Beat softened butter and cream cheese until ...</td>\n",
       "      <td>https://imagesvc.meredithcorp.io/v3/mm/image?u...</td>\n",
       "      <td>292 calories; protein 1.5g; carbohydrates 40.4...</td>\n",
       "    </tr>\n",
       "    <tr>\n",
       "      <th>1</th>\n",
       "      <td>1</td>\n",
       "      <td>Bread Pudding II</td>\n",
       "      <td>['6 slices day-old bread', '2 tablespoons butt...</td>\n",
       "      <td>['Preheat oven to 350 degrees F (175 degrees C...</td>\n",
       "      <td>https://imagesvc.meredithcorp.io/v3/mm/image?u...</td>\n",
       "      <td>165 calories; protein 4.6g; carbohydrates 26.5...</td>\n",
       "    </tr>\n",
       "  </tbody>\n",
       "</table>\n",
       "</div>"
      ],
      "text/plain": [
       "   Unnamed: 0                        title  \\\n",
       "0           0  Basic Cream Cheese Frosting   \n",
       "1           1             Bread Pudding II   \n",
       "\n",
       "                                         ingredients  \\\n",
       "0  ['½ cup butter, softened', '8 ounces cream che...   \n",
       "1  ['6 slices day-old bread', '2 tablespoons butt...   \n",
       "\n",
       "                                        instructions  \\\n",
       "0  ['Beat softened butter and cream cheese until ...   \n",
       "1  ['Preheat oven to 350 degrees F (175 degrees C...   \n",
       "\n",
       "                                        picture_link  \\\n",
       "0  https://imagesvc.meredithcorp.io/v3/mm/image?u...   \n",
       "1  https://imagesvc.meredithcorp.io/v3/mm/image?u...   \n",
       "\n",
       "                                      nutrition_text  \n",
       "0  292 calories; protein 1.5g; carbohydrates 40.4...  \n",
       "1  165 calories; protein 4.6g; carbohydrates 26.5...  "
      ]
     },
     "execution_count": 4,
     "metadata": {},
     "output_type": "execute_result"
    }
   ],
   "source": [
    "data_2 = pd.read_csv(\"Datasets/dataset_all_recipes_second.csv\")\n",
    "data_2.head(2)"
   ]
  },
  {
   "cell_type": "code",
   "execution_count": 5,
   "metadata": {},
   "outputs": [
    {
     "data": {
      "text/html": [
       "<div>\n",
       "<style scoped>\n",
       "    .dataframe tbody tr th:only-of-type {\n",
       "        vertical-align: middle;\n",
       "    }\n",
       "\n",
       "    .dataframe tbody tr th {\n",
       "        vertical-align: top;\n",
       "    }\n",
       "\n",
       "    .dataframe thead th {\n",
       "        text-align: right;\n",
       "    }\n",
       "</style>\n",
       "<table border=\"1\" class=\"dataframe\">\n",
       "  <thead>\n",
       "    <tr style=\"text-align: right;\">\n",
       "      <th></th>\n",
       "      <th>Unnamed: 0</th>\n",
       "      <th>title</th>\n",
       "      <th>ingredients</th>\n",
       "      <th>instructions</th>\n",
       "      <th>picture_link</th>\n",
       "      <th>nutrition_text</th>\n",
       "    </tr>\n",
       "  </thead>\n",
       "  <tbody>\n",
       "    <tr>\n",
       "      <th>0</th>\n",
       "      <td>0</td>\n",
       "      <td>Basic Chicken Salad</td>\n",
       "      <td>['½ cup mayonnaise', '1 tablespoon lemon juice...</td>\n",
       "      <td>['Place almonds in a frying pan. Toast over me...</td>\n",
       "      <td>https://imagesvc.meredithcorp.io/v3/mm/image?u...</td>\n",
       "      <td>779 calories; protein 44.3g; carbohydrates 8.4...</td>\n",
       "    </tr>\n",
       "    <tr>\n",
       "      <th>1</th>\n",
       "      <td>1</td>\n",
       "      <td>Easy Hamantaschen</td>\n",
       "      <td>['3  eggs', '1 cup granulated sugar', '¾ cup v...</td>\n",
       "      <td>['Preheat oven to 350 degrees F (175 degrees C...</td>\n",
       "      <td>https://imagesvc.meredithcorp.io/v3/mm/image?u...</td>\n",
       "      <td>246 calories; protein 3.8g; carbohydrates 40g;...</td>\n",
       "    </tr>\n",
       "  </tbody>\n",
       "</table>\n",
       "</div>"
      ],
      "text/plain": [
       "   Unnamed: 0                title  \\\n",
       "0           0  Basic Chicken Salad   \n",
       "1           1    Easy Hamantaschen   \n",
       "\n",
       "                                         ingredients  \\\n",
       "0  ['½ cup mayonnaise', '1 tablespoon lemon juice...   \n",
       "1  ['3  eggs', '1 cup granulated sugar', '¾ cup v...   \n",
       "\n",
       "                                        instructions  \\\n",
       "0  ['Place almonds in a frying pan. Toast over me...   \n",
       "1  ['Preheat oven to 350 degrees F (175 degrees C...   \n",
       "\n",
       "                                        picture_link  \\\n",
       "0  https://imagesvc.meredithcorp.io/v3/mm/image?u...   \n",
       "1  https://imagesvc.meredithcorp.io/v3/mm/image?u...   \n",
       "\n",
       "                                      nutrition_text  \n",
       "0  779 calories; protein 44.3g; carbohydrates 8.4...  \n",
       "1  246 calories; protein 3.8g; carbohydrates 40g;...  "
      ]
     },
     "execution_count": 5,
     "metadata": {},
     "output_type": "execute_result"
    }
   ],
   "source": [
    "data_3 = pd.read_csv(\"Datasets/dataset_all_recipes_third.csv\")\n",
    "data_3.head(2)"
   ]
  },
  {
   "cell_type": "code",
   "execution_count": 6,
   "metadata": {},
   "outputs": [
    {
     "data": {
      "text/html": [
       "<div>\n",
       "<style scoped>\n",
       "    .dataframe tbody tr th:only-of-type {\n",
       "        vertical-align: middle;\n",
       "    }\n",
       "\n",
       "    .dataframe tbody tr th {\n",
       "        vertical-align: top;\n",
       "    }\n",
       "\n",
       "    .dataframe thead th {\n",
       "        text-align: right;\n",
       "    }\n",
       "</style>\n",
       "<table border=\"1\" class=\"dataframe\">\n",
       "  <thead>\n",
       "    <tr style=\"text-align: right;\">\n",
       "      <th></th>\n",
       "      <th>Unnamed: 0</th>\n",
       "      <th>title</th>\n",
       "      <th>ingredients</th>\n",
       "      <th>instructions</th>\n",
       "      <th>picture_link</th>\n",
       "      <th>nutrition_text</th>\n",
       "    </tr>\n",
       "  </thead>\n",
       "  <tbody>\n",
       "    <tr>\n",
       "      <th>0</th>\n",
       "      <td>0</td>\n",
       "      <td>Awesome and Easy Creamy Corn Casserole</td>\n",
       "      <td>['½ cup butter, melted', '2  eggs, beaten', '1...</td>\n",
       "      <td>['Preheat oven to 350 degrees F (175 degrees C...</td>\n",
       "      <td>https://imagesvc.meredithcorp.io/v3/mm/image?u...</td>\n",
       "      <td>376 calories; protein 7.3g; carbohydrates 40.4...</td>\n",
       "    </tr>\n",
       "    <tr>\n",
       "      <th>1</th>\n",
       "      <td>1</td>\n",
       "      <td>Funnel Cakes</td>\n",
       "      <td>['8 cups vegetable oil for frying', '1\\u2009½ ...</td>\n",
       "      <td>['In a deep-fryer, or heavy skillet, heat oil ...</td>\n",
       "      <td>https://imagesvc.meredithcorp.io/v3/mm/image?u...</td>\n",
       "      <td>524 calories; protein 8.4g; carbohydrates 50g;...</td>\n",
       "    </tr>\n",
       "  </tbody>\n",
       "</table>\n",
       "</div>"
      ],
      "text/plain": [
       "   Unnamed: 0                                   title  \\\n",
       "0           0  Awesome and Easy Creamy Corn Casserole   \n",
       "1           1                            Funnel Cakes   \n",
       "\n",
       "                                         ingredients  \\\n",
       "0  ['½ cup butter, melted', '2  eggs, beaten', '1...   \n",
       "1  ['8 cups vegetable oil for frying', '1\\u2009½ ...   \n",
       "\n",
       "                                        instructions  \\\n",
       "0  ['Preheat oven to 350 degrees F (175 degrees C...   \n",
       "1  ['In a deep-fryer, or heavy skillet, heat oil ...   \n",
       "\n",
       "                                        picture_link  \\\n",
       "0  https://imagesvc.meredithcorp.io/v3/mm/image?u...   \n",
       "1  https://imagesvc.meredithcorp.io/v3/mm/image?u...   \n",
       "\n",
       "                                      nutrition_text  \n",
       "0  376 calories; protein 7.3g; carbohydrates 40.4...  \n",
       "1  524 calories; protein 8.4g; carbohydrates 50g;...  "
      ]
     },
     "execution_count": 6,
     "metadata": {},
     "output_type": "execute_result"
    }
   ],
   "source": [
    "data_4 = pd.read_csv(\"Datasets/dataset_all_recipes_99.csv\")\n",
    "data_4.head(2)"
   ]
  },
  {
   "cell_type": "code",
   "execution_count": 7,
   "metadata": {},
   "outputs": [
    {
     "data": {
      "text/html": [
       "<div>\n",
       "<style scoped>\n",
       "    .dataframe tbody tr th:only-of-type {\n",
       "        vertical-align: middle;\n",
       "    }\n",
       "\n",
       "    .dataframe tbody tr th {\n",
       "        vertical-align: top;\n",
       "    }\n",
       "\n",
       "    .dataframe thead th {\n",
       "        text-align: right;\n",
       "    }\n",
       "</style>\n",
       "<table border=\"1\" class=\"dataframe\">\n",
       "  <thead>\n",
       "    <tr style=\"text-align: right;\">\n",
       "      <th></th>\n",
       "      <th>Unnamed: 0</th>\n",
       "      <th>title</th>\n",
       "      <th>ingredients</th>\n",
       "      <th>instructions</th>\n",
       "      <th>picture_link</th>\n",
       "      <th>nutrition_text</th>\n",
       "    </tr>\n",
       "  </thead>\n",
       "  <tbody>\n",
       "    <tr>\n",
       "      <th>0</th>\n",
       "      <td>0</td>\n",
       "      <td>Jalapeno Jelly</td>\n",
       "      <td>['1 large green bell pepper', '12  jalapeno pe...</td>\n",
       "      <td>['Combine the green bell pepper and 12 jalapen...</td>\n",
       "      <td>https://imagesvc.meredithcorp.io/v3/mm/image?u...</td>\n",
       "      <td>109 calories; protein 0.1g; carbohydrates 27.5...</td>\n",
       "    </tr>\n",
       "    <tr>\n",
       "      <th>1</th>\n",
       "      <td>1</td>\n",
       "      <td>Pork Picnic Pot Roast</td>\n",
       "      <td>['1 (5 pound) boneless pork picnic roast', 'sa...</td>\n",
       "      <td>['Season pork roast all over with salt and bla...</td>\n",
       "      <td>https://imagesvc.meredithcorp.io/v3/mm/image?u...</td>\n",
       "      <td>552 calories; protein 33.7g; carbohydrates 35....</td>\n",
       "    </tr>\n",
       "  </tbody>\n",
       "</table>\n",
       "</div>"
      ],
      "text/plain": [
       "   Unnamed: 0                  title  \\\n",
       "0           0         Jalapeno Jelly   \n",
       "1           1  Pork Picnic Pot Roast   \n",
       "\n",
       "                                         ingredients  \\\n",
       "0  ['1 large green bell pepper', '12  jalapeno pe...   \n",
       "1  ['1 (5 pound) boneless pork picnic roast', 'sa...   \n",
       "\n",
       "                                        instructions  \\\n",
       "0  ['Combine the green bell pepper and 12 jalapen...   \n",
       "1  ['Season pork roast all over with salt and bla...   \n",
       "\n",
       "                                        picture_link  \\\n",
       "0  https://imagesvc.meredithcorp.io/v3/mm/image?u...   \n",
       "1  https://imagesvc.meredithcorp.io/v3/mm/image?u...   \n",
       "\n",
       "                                      nutrition_text  \n",
       "0  109 calories; protein 0.1g; carbohydrates 27.5...  \n",
       "1  552 calories; protein 33.7g; carbohydrates 35....  "
      ]
     },
     "execution_count": 7,
     "metadata": {},
     "output_type": "execute_result"
    }
   ],
   "source": [
    "data_5 = pd.read_csv(\"Datasets/dataset_all_recipes_299.csv\")\n",
    "data_5.head(2)"
   ]
  },
  {
   "cell_type": "code",
   "execution_count": 19,
   "metadata": {},
   "outputs": [
    {
     "data": {
      "text/html": [
       "<div>\n",
       "<style scoped>\n",
       "    .dataframe tbody tr th:only-of-type {\n",
       "        vertical-align: middle;\n",
       "    }\n",
       "\n",
       "    .dataframe tbody tr th {\n",
       "        vertical-align: top;\n",
       "    }\n",
       "\n",
       "    .dataframe thead th {\n",
       "        text-align: right;\n",
       "    }\n",
       "</style>\n",
       "<table border=\"1\" class=\"dataframe\">\n",
       "  <thead>\n",
       "    <tr style=\"text-align: right;\">\n",
       "      <th></th>\n",
       "      <th>Unnamed: 0</th>\n",
       "      <th>title</th>\n",
       "      <th>ingredients</th>\n",
       "      <th>instructions</th>\n",
       "      <th>picture_link</th>\n",
       "      <th>nutrition_text</th>\n",
       "    </tr>\n",
       "  </thead>\n",
       "  <tbody>\n",
       "    <tr>\n",
       "      <th>0</th>\n",
       "      <td>0</td>\n",
       "      <td>Authentic Thai Basil Chicken (Very Easy and Fast)</td>\n",
       "      <td>['2 tablespoons vegetable oil', '½  onion, sli...</td>\n",
       "      <td>['Heat oil in a wok or large skillet over medi...</td>\n",
       "      <td>https://imagesvc.meredithcorp.io/v3/mm/image?u...</td>\n",
       "      <td>304 calories; protein 25.8g; carbohydrates 14....</td>\n",
       "    </tr>\n",
       "    <tr>\n",
       "      <th>1</th>\n",
       "      <td>1</td>\n",
       "      <td>Torta di Riso</td>\n",
       "      <td>['2 tablespoons olive oil, divided', '2 tables...</td>\n",
       "      <td>['Preheat oven to 350 degrees F (175 degrees C...</td>\n",
       "      <td>https://imagesvc.meredithcorp.io/v3/mm/image?u...</td>\n",
       "      <td>232 calories; protein 11.1g; carbohydrates 25....</td>\n",
       "    </tr>\n",
       "  </tbody>\n",
       "</table>\n",
       "</div>"
      ],
      "text/plain": [
       "   Unnamed: 0                                              title  \\\n",
       "0           0  Authentic Thai Basil Chicken (Very Easy and Fast)   \n",
       "1           1                                      Torta di Riso   \n",
       "\n",
       "                                         ingredients  \\\n",
       "0  ['2 tablespoons vegetable oil', '½  onion, sli...   \n",
       "1  ['2 tablespoons olive oil, divided', '2 tables...   \n",
       "\n",
       "                                        instructions  \\\n",
       "0  ['Heat oil in a wok or large skillet over medi...   \n",
       "1  ['Preheat oven to 350 degrees F (175 degrees C...   \n",
       "\n",
       "                                        picture_link  \\\n",
       "0  https://imagesvc.meredithcorp.io/v3/mm/image?u...   \n",
       "1  https://imagesvc.meredithcorp.io/v3/mm/image?u...   \n",
       "\n",
       "                                      nutrition_text  \n",
       "0  304 calories; protein 25.8g; carbohydrates 14....  \n",
       "1  232 calories; protein 11.1g; carbohydrates 25....  "
      ]
     },
     "execution_count": 19,
     "metadata": {},
     "output_type": "execute_result"
    }
   ],
   "source": [
    "data_6 = pd.read_csv(\"Datasets/dataset_all_recipes_149.csv\")\n",
    "data_6.head(2)"
   ]
  },
  {
   "cell_type": "code",
   "execution_count": 20,
   "metadata": {},
   "outputs": [
    {
     "data": {
      "text/html": [
       "<div>\n",
       "<style scoped>\n",
       "    .dataframe tbody tr th:only-of-type {\n",
       "        vertical-align: middle;\n",
       "    }\n",
       "\n",
       "    .dataframe tbody tr th {\n",
       "        vertical-align: top;\n",
       "    }\n",
       "\n",
       "    .dataframe thead th {\n",
       "        text-align: right;\n",
       "    }\n",
       "</style>\n",
       "<table border=\"1\" class=\"dataframe\">\n",
       "  <thead>\n",
       "    <tr style=\"text-align: right;\">\n",
       "      <th></th>\n",
       "      <th>Unnamed: 0</th>\n",
       "      <th>title</th>\n",
       "      <th>ingredients</th>\n",
       "      <th>instructions</th>\n",
       "      <th>picture_link</th>\n",
       "      <th>nutrition_text</th>\n",
       "    </tr>\n",
       "  </thead>\n",
       "  <tbody>\n",
       "    <tr>\n",
       "      <th>0</th>\n",
       "      <td>0</td>\n",
       "      <td>My Amish Friend's Caramel Corn</td>\n",
       "      <td>['7 quarts plain popped popcorn', '2 cups dry ...</td>\n",
       "      <td>['Place the popped popcorn into two shallow gr...</td>\n",
       "      <td>https://imagesvc.meredithcorp.io/v3/mm/image?u...</td>\n",
       "      <td>238 calories; protein 3.4g; carbohydrates 21.9...</td>\n",
       "    </tr>\n",
       "    <tr>\n",
       "      <th>1</th>\n",
       "      <td>1</td>\n",
       "      <td>Miso-Glazed Black Cod</td>\n",
       "      <td>['3 tablespoons white miso paste', '2 tablespo...</td>\n",
       "      <td>[\"Set oven rack about 6 inches from the heat s...</td>\n",
       "      <td>https://imagesvc.meredithcorp.io/v3/mm/image?u...</td>\n",
       "      <td>290 calories; protein 37.3g; carbohydrates 20....</td>\n",
       "    </tr>\n",
       "  </tbody>\n",
       "</table>\n",
       "</div>"
      ],
      "text/plain": [
       "   Unnamed: 0                           title  \\\n",
       "0           0  My Amish Friend's Caramel Corn   \n",
       "1           1           Miso-Glazed Black Cod   \n",
       "\n",
       "                                         ingredients  \\\n",
       "0  ['7 quarts plain popped popcorn', '2 cups dry ...   \n",
       "1  ['3 tablespoons white miso paste', '2 tablespo...   \n",
       "\n",
       "                                        instructions  \\\n",
       "0  ['Place the popped popcorn into two shallow gr...   \n",
       "1  [\"Set oven rack about 6 inches from the heat s...   \n",
       "\n",
       "                                        picture_link  \\\n",
       "0  https://imagesvc.meredithcorp.io/v3/mm/image?u...   \n",
       "1  https://imagesvc.meredithcorp.io/v3/mm/image?u...   \n",
       "\n",
       "                                      nutrition_text  \n",
       "0  238 calories; protein 3.4g; carbohydrates 21.9...  \n",
       "1  290 calories; protein 37.3g; carbohydrates 20....  "
      ]
     },
     "execution_count": 20,
     "metadata": {},
     "output_type": "execute_result"
    }
   ],
   "source": [
    "data_7 = pd.read_csv(\"Datasets/dataset_all_recipes_199.csv\")\n",
    "data_7.head(2)"
   ]
  },
  {
   "cell_type": "code",
   "execution_count": 21,
   "metadata": {},
   "outputs": [
    {
     "data": {
      "text/plain": [
       "6079"
      ]
     },
     "execution_count": 21,
     "metadata": {},
     "output_type": "execute_result"
    }
   ],
   "source": [
    "all_data = data_1.append(data_2, ignore_index=True).append(data_3, ignore_index=True).append(data_4, ignore_index=True).append(data_5, ignore_index=True).append(data_6, ignore_index=True).append(data_7, ignore_index=True)\n",
    "len(all_data)"
   ]
  },
  {
   "cell_type": "code",
   "execution_count": 22,
   "metadata": {},
   "outputs": [],
   "source": [
    "all_data.to_csv(\"final_csv.csv\")"
   ]
  },
  {
   "cell_type": "code",
   "execution_count": 23,
   "metadata": {},
   "outputs": [
    {
     "data": {
      "text/html": [
       "<div>\n",
       "<style scoped>\n",
       "    .dataframe tbody tr th:only-of-type {\n",
       "        vertical-align: middle;\n",
       "    }\n",
       "\n",
       "    .dataframe tbody tr th {\n",
       "        vertical-align: top;\n",
       "    }\n",
       "\n",
       "    .dataframe thead th {\n",
       "        text-align: right;\n",
       "    }\n",
       "</style>\n",
       "<table border=\"1\" class=\"dataframe\">\n",
       "  <thead>\n",
       "    <tr style=\"text-align: right;\">\n",
       "      <th></th>\n",
       "      <th>Unnamed: 0</th>\n",
       "      <th>Unnamed: 0.1</th>\n",
       "      <th>title</th>\n",
       "      <th>ingredients</th>\n",
       "      <th>instructions</th>\n",
       "      <th>picture_link</th>\n",
       "      <th>nutrition_text</th>\n",
       "    </tr>\n",
       "  </thead>\n",
       "  <tbody>\n",
       "    <tr>\n",
       "      <th>0</th>\n",
       "      <td>0</td>\n",
       "      <td>0</td>\n",
       "      <td>Simple Roasted Butternut Squash</td>\n",
       "      <td>['1  butternut squash - peeled, seeded, and cu...</td>\n",
       "      <td>['Preheat oven to 400 degrees F (200 degrees C...</td>\n",
       "      <td>https://imagesvc.meredithcorp.io/v3/mm/image?u...</td>\n",
       "      <td>177 calories; protein 2.6g; carbohydrates 30.3...</td>\n",
       "    </tr>\n",
       "    <tr>\n",
       "      <th>1</th>\n",
       "      <td>1</td>\n",
       "      <td>1</td>\n",
       "      <td>Simple Crustless Spinach and Mushroom Quiche</td>\n",
       "      <td>['2 tablespoons butter', '2 cups sliced mushro...</td>\n",
       "      <td>['Preheat oven to 350 degrees F (175 degrees C...</td>\n",
       "      <td>https://imagesvc.meredithcorp.io/v3/mm/image?u...</td>\n",
       "      <td>412 calories; protein 20.8g; carbohydrates 10....</td>\n",
       "    </tr>\n",
       "  </tbody>\n",
       "</table>\n",
       "</div>"
      ],
      "text/plain": [
       "   Unnamed: 0  Unnamed: 0.1                                         title  \\\n",
       "0           0             0               Simple Roasted Butternut Squash   \n",
       "1           1             1  Simple Crustless Spinach and Mushroom Quiche   \n",
       "\n",
       "                                         ingredients  \\\n",
       "0  ['1  butternut squash - peeled, seeded, and cu...   \n",
       "1  ['2 tablespoons butter', '2 cups sliced mushro...   \n",
       "\n",
       "                                        instructions  \\\n",
       "0  ['Preheat oven to 400 degrees F (200 degrees C...   \n",
       "1  ['Preheat oven to 350 degrees F (175 degrees C...   \n",
       "\n",
       "                                        picture_link  \\\n",
       "0  https://imagesvc.meredithcorp.io/v3/mm/image?u...   \n",
       "1  https://imagesvc.meredithcorp.io/v3/mm/image?u...   \n",
       "\n",
       "                                      nutrition_text  \n",
       "0  177 calories; protein 2.6g; carbohydrates 30.3...  \n",
       "1  412 calories; protein 20.8g; carbohydrates 10....  "
      ]
     },
     "execution_count": 23,
     "metadata": {},
     "output_type": "execute_result"
    }
   ],
   "source": [
    "data = pd.read_csv(\"final_csv.csv\")\n",
    "data.head(2)"
   ]
  },
  {
   "cell_type": "code",
   "execution_count": 25,
   "metadata": {},
   "outputs": [],
   "source": [
    "data = data.iloc[:,2:]"
   ]
  },
  {
   "cell_type": "code",
   "execution_count": 45,
   "metadata": {},
   "outputs": [
    {
     "data": {
      "text/html": [
       "<div>\n",
       "<style scoped>\n",
       "    .dataframe tbody tr th:only-of-type {\n",
       "        vertical-align: middle;\n",
       "    }\n",
       "\n",
       "    .dataframe tbody tr th {\n",
       "        vertical-align: top;\n",
       "    }\n",
       "\n",
       "    .dataframe thead th {\n",
       "        text-align: right;\n",
       "    }\n",
       "</style>\n",
       "<table border=\"1\" class=\"dataframe\">\n",
       "  <thead>\n",
       "    <tr style=\"text-align: right;\">\n",
       "      <th></th>\n",
       "      <th>title</th>\n",
       "      <th>ingredients</th>\n",
       "      <th>instructions</th>\n",
       "      <th>picture_link</th>\n",
       "      <th>nutrition_text</th>\n",
       "    </tr>\n",
       "  </thead>\n",
       "  <tbody>\n",
       "    <tr>\n",
       "      <th>0</th>\n",
       "      <td>Simple Roasted Butternut Squash</td>\n",
       "      <td>['1  butternut squash - peeled, seeded, and cu...</td>\n",
       "      <td>['Preheat oven to 400 degrees F (200 degrees C...</td>\n",
       "      <td>https://imagesvc.meredithcorp.io/v3/mm/image?u...</td>\n",
       "      <td>177 calories; protein 2.6g; carbohydrates 30.3...</td>\n",
       "    </tr>\n",
       "    <tr>\n",
       "      <th>1</th>\n",
       "      <td>Simple Crustless Spinach and Mushroom Quiche</td>\n",
       "      <td>['2 tablespoons butter', '2 cups sliced mushro...</td>\n",
       "      <td>['Preheat oven to 350 degrees F (175 degrees C...</td>\n",
       "      <td>https://imagesvc.meredithcorp.io/v3/mm/image?u...</td>\n",
       "      <td>412 calories; protein 20.8g; carbohydrates 10....</td>\n",
       "    </tr>\n",
       "  </tbody>\n",
       "</table>\n",
       "</div>"
      ],
      "text/plain": [
       "                                          title  \\\n",
       "0               Simple Roasted Butternut Squash   \n",
       "1  Simple Crustless Spinach and Mushroom Quiche   \n",
       "\n",
       "                                         ingredients  \\\n",
       "0  ['1  butternut squash - peeled, seeded, and cu...   \n",
       "1  ['2 tablespoons butter', '2 cups sliced mushro...   \n",
       "\n",
       "                                        instructions  \\\n",
       "0  ['Preheat oven to 400 degrees F (200 degrees C...   \n",
       "1  ['Preheat oven to 350 degrees F (175 degrees C...   \n",
       "\n",
       "                                        picture_link  \\\n",
       "0  https://imagesvc.meredithcorp.io/v3/mm/image?u...   \n",
       "1  https://imagesvc.meredithcorp.io/v3/mm/image?u...   \n",
       "\n",
       "                                      nutrition_text  \n",
       "0  177 calories; protein 2.6g; carbohydrates 30.3...  \n",
       "1  412 calories; protein 20.8g; carbohydrates 10....  "
      ]
     },
     "execution_count": 45,
     "metadata": {},
     "output_type": "execute_result"
    }
   ],
   "source": [
    "temp_data = data.iloc[:10,:]\n",
    "temp_data.head(2)"
   ]
  },
  {
   "cell_type": "code",
   "execution_count": 48,
   "metadata": {},
   "outputs": [
    {
     "data": {
      "text/plain": [
       "'177 calories; protein 2.6g; carbohydrates 30.3g; fat 7g; sodium 10.6mg.\\n                                Full Nutrition'"
      ]
     },
     "execution_count": 48,
     "metadata": {},
     "output_type": "execute_result"
    }
   ],
   "source": [
    "temp_data[\"nutrition_text\"][0]"
   ]
  },
  {
   "cell_type": "code",
   "execution_count": 30,
   "metadata": {},
   "outputs": [],
   "source": [
    "def new_column(row):\n",
    "    \n",
    "    string = row[\"nutrition_text\"]\n",
    "    arr = string.split(\";\")\n",
    "\n",
    "    for i in range(len(arr)):\n",
    "        arr[i] = arr[i].strip()\n",
    "        if(i==0):\n",
    "            row[\"cals\"] = arr[i].split(\" \")[0]\n",
    "        elif(i==len(arr)-1):\n",
    "            row[\"sodium\"] = arr[i].split(\" \")[1]\n",
    "        elif(i==1):\n",
    "            row[\"protiens\"] = arr[i].split(\" \")[1]\n",
    "        elif(i==2):\n",
    "            row[\"carbs\"] = arr[i].split(\" \")[1]\n",
    "        elif(i==3):\n",
    "            row[\"fats\"] = arr[i].split(\" \")[1]\n",
    "        elif(i==4):\n",
    "            row[\"chols\"] = arr[i].split(\" \")[1]"
   ]
  },
  {
   "cell_type": "code",
   "execution_count": 49,
   "metadata": {},
   "outputs": [
    {
     "name": "stdout",
     "output_type": "stream",
     "text": [
      "['177 calories', ' protein 2.6g', ' carbohydrates 30.3g', ' fat 7g', ' sodium 10.6mg.\\n                                Full Nutrition']\n"
     ]
    }
   ],
   "source": [
    "cal,sod,pro,fat,chol,carbo =[],[],[],[],[],[]\n",
    "for i in range(len(temp_data[\"nutrition_text\"])):\n",
    "    string = str(temp_data[\"nutrition_text\"][i])\n",
    "    arr = string.split(\";\")\n",
    "    print(arr)\n",
    "    for i in range(len(arr)):\n",
    "        arr[i] = arr[i].strip()\n",
    "        if(i==0):\n",
    "            cal.append(arr[i].split(\" \")[0])\n",
    "        elif(i==len(arr)-1):\n",
    "            sod.append(arr[i].split(\" \")[1])\n",
    "        elif(i==1):\n",
    "            pro.append(arr[i].split(\" \")[1])\n",
    "        elif(i==2):\n",
    "            carbo.append(arr[i].split(\" \")[1])\n",
    "        elif(i==3):\n",
    "            fat.append(arr[i].split(\" \")[1])\n",
    "        elif(i==4):\n",
    "            chol.append(arr[i].split(\" \")[1])"
   ]
  },
  {
   "cell_type": "code",
   "execution_count": 39,
   "metadata": {},
   "outputs": [
    {
     "name": "stderr",
     "output_type": "stream",
     "text": [
      "C:\\Users\\Princeton\\Anaconda3\\lib\\site-packages\\ipykernel_launcher.py:1: SettingWithCopyWarning: \n",
      "A value is trying to be set on a copy of a slice from a DataFrame.\n",
      "Try using .loc[row_indexer,col_indexer] = value instead\n",
      "\n",
      "See the caveats in the documentation: https://pandas.pydata.org/pandas-docs/stable/user_guide/indexing.html#returning-a-view-versus-a-copy\n",
      "  \"\"\"Entry point for launching an IPython kernel.\n",
      "C:\\Users\\Princeton\\Anaconda3\\lib\\site-packages\\ipykernel_launcher.py:2: SettingWithCopyWarning: \n",
      "A value is trying to be set on a copy of a slice from a DataFrame.\n",
      "Try using .loc[row_indexer,col_indexer] = value instead\n",
      "\n",
      "See the caveats in the documentation: https://pandas.pydata.org/pandas-docs/stable/user_guide/indexing.html#returning-a-view-versus-a-copy\n",
      "  \n",
      "C:\\Users\\Princeton\\Anaconda3\\lib\\site-packages\\ipykernel_launcher.py:3: SettingWithCopyWarning: \n",
      "A value is trying to be set on a copy of a slice from a DataFrame.\n",
      "Try using .loc[row_indexer,col_indexer] = value instead\n",
      "\n",
      "See the caveats in the documentation: https://pandas.pydata.org/pandas-docs/stable/user_guide/indexing.html#returning-a-view-versus-a-copy\n",
      "  This is separate from the ipykernel package so we can avoid doing imports until\n",
      "C:\\Users\\Princeton\\Anaconda3\\lib\\site-packages\\ipykernel_launcher.py:4: SettingWithCopyWarning: \n",
      "A value is trying to be set on a copy of a slice from a DataFrame.\n",
      "Try using .loc[row_indexer,col_indexer] = value instead\n",
      "\n",
      "See the caveats in the documentation: https://pandas.pydata.org/pandas-docs/stable/user_guide/indexing.html#returning-a-view-versus-a-copy\n",
      "  after removing the cwd from sys.path.\n",
      "C:\\Users\\Princeton\\Anaconda3\\lib\\site-packages\\ipykernel_launcher.py:5: SettingWithCopyWarning: \n",
      "A value is trying to be set on a copy of a slice from a DataFrame.\n",
      "Try using .loc[row_indexer,col_indexer] = value instead\n",
      "\n",
      "See the caveats in the documentation: https://pandas.pydata.org/pandas-docs/stable/user_guide/indexing.html#returning-a-view-versus-a-copy\n",
      "  \"\"\"\n",
      "C:\\Users\\Princeton\\Anaconda3\\lib\\site-packages\\ipykernel_launcher.py:6: SettingWithCopyWarning: \n",
      "A value is trying to be set on a copy of a slice from a DataFrame.\n",
      "Try using .loc[row_indexer,col_indexer] = value instead\n",
      "\n",
      "See the caveats in the documentation: https://pandas.pydata.org/pandas-docs/stable/user_guide/indexing.html#returning-a-view-versus-a-copy\n",
      "  \n"
     ]
    }
   ],
   "source": [
    "temp_data[\"calories\"] = cal\n",
    "temp_data[\"carbohydrtes\"] = carbo\n",
    "temp_data[\"sodium\"] = sod\n",
    "temp_data[\"cholestrol\"] = chol\n",
    "temp_data[\"fat\"] = fat\n",
    "temp_data[\"protiens\"] = pro"
   ]
  },
  {
   "cell_type": "code",
   "execution_count": 44,
   "metadata": {},
   "outputs": [
    {
     "data": {
      "text/plain": [
       "0    30.3...\\n1\n",
       "1    30.3...\\n1\n",
       "2    30.3...\\n1\n",
       "3    30.3...\\n1\n",
       "4    30.3...\\n1\n",
       "5    30.3...\\n1\n",
       "6    30.3...\\n1\n",
       "7    30.3...\\n1\n",
       "8    30.3...\\n1\n",
       "9    30.3...\\n1\n",
       "Name: carbohydrtes, dtype: object"
      ]
     },
     "execution_count": 44,
     "metadata": {},
     "output_type": "execute_result"
    }
   ],
   "source": []
  }
 ],
 "metadata": {
  "kernelspec": {
   "display_name": "Python 3",
   "language": "python",
   "name": "python3"
  },
  "language_info": {
   "codemirror_mode": {
    "name": "ipython",
    "version": 3
   },
   "file_extension": ".py",
   "mimetype": "text/x-python",
   "name": "python",
   "nbconvert_exporter": "python",
   "pygments_lexer": "ipython3",
   "version": "3.7.1"
  }
 },
 "nbformat": 4,
 "nbformat_minor": 4
}
